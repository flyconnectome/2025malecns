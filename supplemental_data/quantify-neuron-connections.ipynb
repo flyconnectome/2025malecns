{
 "cells": [
  {
   "cell_type": "code",
   "execution_count": 1,
   "id": "59edb991",
   "metadata": {},
   "outputs": [],
   "source": [
    "import requests\n",
    "import numpy as np\n",
    "import pyarrow.feather as feather\n",
    "\n",
    "VERSION = 'v0.9'\n",
    "\n",
    "def load_table(file_name):\n",
    "    if not os.path.exists(file_name):\n",
    "        try:\n",
    "            url = f'https://storage.googleapis.com/flyem-male-cns/{VERSION}/connectome-data/flat-connectome/{file_name}'\n",
    "            with requests.get(url, stream=True) as r:\n",
    "                r.raise_for_status()\n",
    "                with open(file_name, \"wb\") as f:\n",
    "                    for chunk in r.iter_content(chunk_size=2**20):\n",
    "                        f.write(chunk)\n",
    "        except:\n",
    "            os.remove(file_name)\n",
    "            raise\n",
    "\n",
    "    df = feather.read_feather(file_name).rename(columns={'bodyId': 'body'})\n",
    "    if 'body' in df.columns:\n",
    "        df = df.set_index('body')\n",
    "    return df\n",
    "\n",
    "def load_annotations_and_weights():\n",
    "    annotations = load_table(f'body-annotations-male-cns-{VERSION}-minconf-0.5.feather')\n",
    "    weights = load_table(f'connectome-weights-male-cns-{VERSION}-minconf-0.5.feather')\n",
    "\n",
    "    weights['superclass_pre'] = weights['body_pre'].map(annotations['superclass'])\n",
    "    weights['superclass_post'] = weights['body_post'].map(annotations['superclass'])\n",
    "\n",
    "    weights['type_pre'] = weights['body_pre'].map(annotations['type'])\n",
    "    weights['type_post'] = weights['body_post'].map(annotations['type'])\n",
    "\n",
    "    return annotations, weights"
   ]
  },
  {
   "cell_type": "code",
   "execution_count": 2,
   "id": "db2b0efc",
   "metadata": {},
   "outputs": [],
   "source": [
    "annotations, weights = load_annotations_and_weights()"
   ]
  },
  {
   "cell_type": "code",
   "execution_count": 3,
   "id": "a2b31ed7",
   "metadata": {},
   "outputs": [
    {
     "name": "stdout",
     "output_type": "stream",
     "text": [
      "There are 20 valid superclasses\n",
      "There are 11691 valid types\n",
      "There are 25563426 edges between neurons with valid superclasses, connecting 166391 neurons\n",
      "After thresholding by connection strength >= 5, there are 6237402 edges between 165752 neurons\n",
      "After aggregating thresholded edges by type, there are 929735 type-type edges between 11687 types\n"
     ]
    }
   ],
   "source": [
    "valid_superclasses = [sc for sc in annotations['superclass'].unique() if sc and 'tbc' not in sc]\n",
    "print(f\"There are {len(valid_superclasses)} valid superclasses\")\n",
    "\n",
    "valid_types = [t for t in annotations['type'].unique() if t and 'unclear' not in t and t != \"Pm7_Li28\"]\n",
    "print(f\"There are {len(valid_types)} valid types\")\n",
    "\n",
    "valid_weights = weights.query('superclass_pre in @valid_superclasses and superclass_post in @valid_superclasses')\n",
    "valid_weights_neurons = set(np.concat([\n",
    "    valid_weights['body_pre'].unique(),\n",
    "    valid_weights['body_post'].unique()\n",
    "]))\n",
    "print(f\"There are {len(valid_weights)} edges between neurons with valid superclasses, \"\n",
    "      f\"connecting {len(valid_weights_neurons)} neurons\")\n",
    "\n",
    "thresholded_valid_weights = valid_weights.loc[valid_weights['weight'] >= 5]\n",
    "thresholded_valid_weights_neurons = set(np.concat([\n",
    "    thresholded_valid_weights['body_pre'].unique(),\n",
    "    thresholded_valid_weights['body_post'].unique()\n",
    "]))\n",
    "print(f\"After thresholding by connection strength >= 5, there are {len(thresholded_valid_weights)}\"\n",
    "      f\" edges between {len(thresholded_valid_weights_neurons)} neurons\")\n",
    "\n",
    "thresholded_type_weights = (\n",
    "    thresholded_valid_weights\n",
    "    .query('type_pre in @valid_types and type_post in @valid_types')\n",
    "    .dropna(subset=['type_pre', 'type_post'])\n",
    "    .groupby(['type_pre', 'type_post'])['weight'].sum()\n",
    ")\n",
    "thresholded_type_edge_types = len({\n",
    "    *thresholded_type_weights.reset_index()['type_pre'].unique(),\n",
    "    *thresholded_type_weights.reset_index()['type_post'].unique()\n",
    "})\n",
    "print(f\"After aggregating thresholded edges by type, there are {len(thresholded_type_weights)}\"\n",
    "      f\" type-type edges between {thresholded_type_edge_types} types\")"
   ]
  },
  {
   "cell_type": "code",
   "execution_count": null,
   "id": "87b35672",
   "metadata": {},
   "outputs": [],
   "source": []
  }
 ],
 "metadata": {
  "kernelspec": {
   "display_name": "Python 3",
   "language": "python",
   "name": "python3"
  },
  "language_info": {
   "codemirror_mode": {
    "name": "ipython",
    "version": 3
   },
   "file_extension": ".py",
   "mimetype": "text/x-python",
   "name": "python",
   "nbconvert_exporter": "python",
   "pygments_lexer": "ipython3",
   "version": "3.12.10"
  }
 },
 "nbformat": 4,
 "nbformat_minor": 5
}
